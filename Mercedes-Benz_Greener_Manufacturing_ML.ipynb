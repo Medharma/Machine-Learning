{
 "cells": [
  {
   "cell_type": "markdown",
   "metadata": {},
   "source": [
    "### Mercedes Benz Course End Project (By Medha Sharma)"
   ]
  },
  {
   "cell_type": "code",
   "execution_count": 1,
   "metadata": {},
   "outputs": [
    {
     "name": "stdout",
     "output_type": "stream",
     "text": [
      "Defaulting to user installation because normal site-packages is not writeable\n",
      "Requirement already satisfied: xgboost in /usr/local/lib/python3.7/site-packages (1.0.2)\n",
      "Requirement already satisfied: scipy in /usr/local/lib/python3.7/site-packages (from xgboost) (1.4.1)\n",
      "Requirement already satisfied: numpy in /usr/local/lib/python3.7/site-packages (from xgboost) (1.18.2)\n",
      "\u001b[33mWARNING: You are using pip version 20.3.3; however, version 21.0.1 is available.\n",
      "You should consider upgrading via the '/usr/local/bin/python3.7 -m pip install --upgrade pip' command.\u001b[0m\n"
     ]
    }
   ],
   "source": [
    "import numpy as np\n",
    "import pandas as pd\n",
    "import matplotlib.pyplot as plt\n",
    "import seaborn as sns\n",
    "from sklearn.preprocessing import LabelEncoder, StandardScaler\n",
    "from sklearn.decomposition import PCA\n",
    "from sklearn.model_selection import train_test_split as tts\n",
    "\n",
    "!pip install xgboost\n",
    "import xgboost as xgb\n",
    "from sklearn.metrics import r2_score\n",
    "from sklearn.metrics import mean_squared_error as mse"
   ]
  },
  {
   "cell_type": "code",
   "execution_count": 2,
   "metadata": {},
   "outputs": [],
   "source": [
    "#Loading dataset\n",
    "trainset = pd.read_csv('train.csv')\n",
    "testset= pd.read_csv('test.csv')"
   ]
  },
  {
   "cell_type": "code",
   "execution_count": 3,
   "metadata": {},
   "outputs": [
    {
     "data": {
      "text/html": [
       "<div>\n",
       "<style scoped>\n",
       "    .dataframe tbody tr th:only-of-type {\n",
       "        vertical-align: middle;\n",
       "    }\n",
       "\n",
       "    .dataframe tbody tr th {\n",
       "        vertical-align: top;\n",
       "    }\n",
       "\n",
       "    .dataframe thead th {\n",
       "        text-align: right;\n",
       "    }\n",
       "</style>\n",
       "<table border=\"1\" class=\"dataframe\">\n",
       "  <thead>\n",
       "    <tr style=\"text-align: right;\">\n",
       "      <th></th>\n",
       "      <th>ID</th>\n",
       "      <th>y</th>\n",
       "      <th>X0</th>\n",
       "      <th>X1</th>\n",
       "      <th>X2</th>\n",
       "      <th>X3</th>\n",
       "      <th>X4</th>\n",
       "      <th>X5</th>\n",
       "      <th>X6</th>\n",
       "      <th>X8</th>\n",
       "      <th>...</th>\n",
       "      <th>X375</th>\n",
       "      <th>X376</th>\n",
       "      <th>X377</th>\n",
       "      <th>X378</th>\n",
       "      <th>X379</th>\n",
       "      <th>X380</th>\n",
       "      <th>X382</th>\n",
       "      <th>X383</th>\n",
       "      <th>X384</th>\n",
       "      <th>X385</th>\n",
       "    </tr>\n",
       "  </thead>\n",
       "  <tbody>\n",
       "    <tr>\n",
       "      <th>0</th>\n",
       "      <td>0</td>\n",
       "      <td>130.81</td>\n",
       "      <td>k</td>\n",
       "      <td>v</td>\n",
       "      <td>at</td>\n",
       "      <td>a</td>\n",
       "      <td>d</td>\n",
       "      <td>u</td>\n",
       "      <td>j</td>\n",
       "      <td>o</td>\n",
       "      <td>...</td>\n",
       "      <td>0</td>\n",
       "      <td>0</td>\n",
       "      <td>1</td>\n",
       "      <td>0</td>\n",
       "      <td>0</td>\n",
       "      <td>0</td>\n",
       "      <td>0</td>\n",
       "      <td>0</td>\n",
       "      <td>0</td>\n",
       "      <td>0</td>\n",
       "    </tr>\n",
       "    <tr>\n",
       "      <th>1</th>\n",
       "      <td>6</td>\n",
       "      <td>88.53</td>\n",
       "      <td>k</td>\n",
       "      <td>t</td>\n",
       "      <td>av</td>\n",
       "      <td>e</td>\n",
       "      <td>d</td>\n",
       "      <td>y</td>\n",
       "      <td>l</td>\n",
       "      <td>o</td>\n",
       "      <td>...</td>\n",
       "      <td>1</td>\n",
       "      <td>0</td>\n",
       "      <td>0</td>\n",
       "      <td>0</td>\n",
       "      <td>0</td>\n",
       "      <td>0</td>\n",
       "      <td>0</td>\n",
       "      <td>0</td>\n",
       "      <td>0</td>\n",
       "      <td>0</td>\n",
       "    </tr>\n",
       "    <tr>\n",
       "      <th>2</th>\n",
       "      <td>7</td>\n",
       "      <td>76.26</td>\n",
       "      <td>az</td>\n",
       "      <td>w</td>\n",
       "      <td>n</td>\n",
       "      <td>c</td>\n",
       "      <td>d</td>\n",
       "      <td>x</td>\n",
       "      <td>j</td>\n",
       "      <td>x</td>\n",
       "      <td>...</td>\n",
       "      <td>0</td>\n",
       "      <td>0</td>\n",
       "      <td>0</td>\n",
       "      <td>0</td>\n",
       "      <td>0</td>\n",
       "      <td>0</td>\n",
       "      <td>1</td>\n",
       "      <td>0</td>\n",
       "      <td>0</td>\n",
       "      <td>0</td>\n",
       "    </tr>\n",
       "    <tr>\n",
       "      <th>3</th>\n",
       "      <td>9</td>\n",
       "      <td>80.62</td>\n",
       "      <td>az</td>\n",
       "      <td>t</td>\n",
       "      <td>n</td>\n",
       "      <td>f</td>\n",
       "      <td>d</td>\n",
       "      <td>x</td>\n",
       "      <td>l</td>\n",
       "      <td>e</td>\n",
       "      <td>...</td>\n",
       "      <td>0</td>\n",
       "      <td>0</td>\n",
       "      <td>0</td>\n",
       "      <td>0</td>\n",
       "      <td>0</td>\n",
       "      <td>0</td>\n",
       "      <td>0</td>\n",
       "      <td>0</td>\n",
       "      <td>0</td>\n",
       "      <td>0</td>\n",
       "    </tr>\n",
       "    <tr>\n",
       "      <th>4</th>\n",
       "      <td>13</td>\n",
       "      <td>78.02</td>\n",
       "      <td>az</td>\n",
       "      <td>v</td>\n",
       "      <td>n</td>\n",
       "      <td>f</td>\n",
       "      <td>d</td>\n",
       "      <td>h</td>\n",
       "      <td>d</td>\n",
       "      <td>n</td>\n",
       "      <td>...</td>\n",
       "      <td>0</td>\n",
       "      <td>0</td>\n",
       "      <td>0</td>\n",
       "      <td>0</td>\n",
       "      <td>0</td>\n",
       "      <td>0</td>\n",
       "      <td>0</td>\n",
       "      <td>0</td>\n",
       "      <td>0</td>\n",
       "      <td>0</td>\n",
       "    </tr>\n",
       "  </tbody>\n",
       "</table>\n",
       "<p>5 rows × 378 columns</p>\n",
       "</div>"
      ],
      "text/plain": [
       "   ID       y  X0 X1  X2 X3 X4 X5 X6 X8  ...  X375  X376  X377  X378  X379  \\\n",
       "0   0  130.81   k  v  at  a  d  u  j  o  ...     0     0     1     0     0   \n",
       "1   6   88.53   k  t  av  e  d  y  l  o  ...     1     0     0     0     0   \n",
       "2   7   76.26  az  w   n  c  d  x  j  x  ...     0     0     0     0     0   \n",
       "3   9   80.62  az  t   n  f  d  x  l  e  ...     0     0     0     0     0   \n",
       "4  13   78.02  az  v   n  f  d  h  d  n  ...     0     0     0     0     0   \n",
       "\n",
       "   X380  X382  X383  X384  X385  \n",
       "0     0     0     0     0     0  \n",
       "1     0     0     0     0     0  \n",
       "2     0     1     0     0     0  \n",
       "3     0     0     0     0     0  \n",
       "4     0     0     0     0     0  \n",
       "\n",
       "[5 rows x 378 columns]"
      ]
     },
     "execution_count": 3,
     "metadata": {},
     "output_type": "execute_result"
    }
   ],
   "source": [
    "trainset.head()"
   ]
  },
  {
   "cell_type": "code",
   "execution_count": 4,
   "metadata": {},
   "outputs": [
    {
     "data": {
      "text/html": [
       "<div>\n",
       "<style scoped>\n",
       "    .dataframe tbody tr th:only-of-type {\n",
       "        vertical-align: middle;\n",
       "    }\n",
       "\n",
       "    .dataframe tbody tr th {\n",
       "        vertical-align: top;\n",
       "    }\n",
       "\n",
       "    .dataframe thead th {\n",
       "        text-align: right;\n",
       "    }\n",
       "</style>\n",
       "<table border=\"1\" class=\"dataframe\">\n",
       "  <thead>\n",
       "    <tr style=\"text-align: right;\">\n",
       "      <th></th>\n",
       "      <th>ID</th>\n",
       "      <th>X0</th>\n",
       "      <th>X1</th>\n",
       "      <th>X2</th>\n",
       "      <th>X3</th>\n",
       "      <th>X4</th>\n",
       "      <th>X5</th>\n",
       "      <th>X6</th>\n",
       "      <th>X8</th>\n",
       "      <th>X10</th>\n",
       "      <th>...</th>\n",
       "      <th>X375</th>\n",
       "      <th>X376</th>\n",
       "      <th>X377</th>\n",
       "      <th>X378</th>\n",
       "      <th>X379</th>\n",
       "      <th>X380</th>\n",
       "      <th>X382</th>\n",
       "      <th>X383</th>\n",
       "      <th>X384</th>\n",
       "      <th>X385</th>\n",
       "    </tr>\n",
       "  </thead>\n",
       "  <tbody>\n",
       "    <tr>\n",
       "      <th>0</th>\n",
       "      <td>1</td>\n",
       "      <td>az</td>\n",
       "      <td>v</td>\n",
       "      <td>n</td>\n",
       "      <td>f</td>\n",
       "      <td>d</td>\n",
       "      <td>t</td>\n",
       "      <td>a</td>\n",
       "      <td>w</td>\n",
       "      <td>0</td>\n",
       "      <td>...</td>\n",
       "      <td>0</td>\n",
       "      <td>0</td>\n",
       "      <td>0</td>\n",
       "      <td>1</td>\n",
       "      <td>0</td>\n",
       "      <td>0</td>\n",
       "      <td>0</td>\n",
       "      <td>0</td>\n",
       "      <td>0</td>\n",
       "      <td>0</td>\n",
       "    </tr>\n",
       "    <tr>\n",
       "      <th>1</th>\n",
       "      <td>2</td>\n",
       "      <td>t</td>\n",
       "      <td>b</td>\n",
       "      <td>ai</td>\n",
       "      <td>a</td>\n",
       "      <td>d</td>\n",
       "      <td>b</td>\n",
       "      <td>g</td>\n",
       "      <td>y</td>\n",
       "      <td>0</td>\n",
       "      <td>...</td>\n",
       "      <td>0</td>\n",
       "      <td>0</td>\n",
       "      <td>1</td>\n",
       "      <td>0</td>\n",
       "      <td>0</td>\n",
       "      <td>0</td>\n",
       "      <td>0</td>\n",
       "      <td>0</td>\n",
       "      <td>0</td>\n",
       "      <td>0</td>\n",
       "    </tr>\n",
       "    <tr>\n",
       "      <th>2</th>\n",
       "      <td>3</td>\n",
       "      <td>az</td>\n",
       "      <td>v</td>\n",
       "      <td>as</td>\n",
       "      <td>f</td>\n",
       "      <td>d</td>\n",
       "      <td>a</td>\n",
       "      <td>j</td>\n",
       "      <td>j</td>\n",
       "      <td>0</td>\n",
       "      <td>...</td>\n",
       "      <td>0</td>\n",
       "      <td>0</td>\n",
       "      <td>0</td>\n",
       "      <td>1</td>\n",
       "      <td>0</td>\n",
       "      <td>0</td>\n",
       "      <td>0</td>\n",
       "      <td>0</td>\n",
       "      <td>0</td>\n",
       "      <td>0</td>\n",
       "    </tr>\n",
       "    <tr>\n",
       "      <th>3</th>\n",
       "      <td>4</td>\n",
       "      <td>az</td>\n",
       "      <td>l</td>\n",
       "      <td>n</td>\n",
       "      <td>f</td>\n",
       "      <td>d</td>\n",
       "      <td>z</td>\n",
       "      <td>l</td>\n",
       "      <td>n</td>\n",
       "      <td>0</td>\n",
       "      <td>...</td>\n",
       "      <td>0</td>\n",
       "      <td>0</td>\n",
       "      <td>0</td>\n",
       "      <td>1</td>\n",
       "      <td>0</td>\n",
       "      <td>0</td>\n",
       "      <td>0</td>\n",
       "      <td>0</td>\n",
       "      <td>0</td>\n",
       "      <td>0</td>\n",
       "    </tr>\n",
       "    <tr>\n",
       "      <th>4</th>\n",
       "      <td>5</td>\n",
       "      <td>w</td>\n",
       "      <td>s</td>\n",
       "      <td>as</td>\n",
       "      <td>c</td>\n",
       "      <td>d</td>\n",
       "      <td>y</td>\n",
       "      <td>i</td>\n",
       "      <td>m</td>\n",
       "      <td>0</td>\n",
       "      <td>...</td>\n",
       "      <td>1</td>\n",
       "      <td>0</td>\n",
       "      <td>0</td>\n",
       "      <td>0</td>\n",
       "      <td>0</td>\n",
       "      <td>0</td>\n",
       "      <td>0</td>\n",
       "      <td>0</td>\n",
       "      <td>0</td>\n",
       "      <td>0</td>\n",
       "    </tr>\n",
       "  </tbody>\n",
       "</table>\n",
       "<p>5 rows × 377 columns</p>\n",
       "</div>"
      ],
      "text/plain": [
       "   ID  X0 X1  X2 X3 X4 X5 X6 X8  X10  ...  X375  X376  X377  X378  X379  X380  \\\n",
       "0   1  az  v   n  f  d  t  a  w    0  ...     0     0     0     1     0     0   \n",
       "1   2   t  b  ai  a  d  b  g  y    0  ...     0     0     1     0     0     0   \n",
       "2   3  az  v  as  f  d  a  j  j    0  ...     0     0     0     1     0     0   \n",
       "3   4  az  l   n  f  d  z  l  n    0  ...     0     0     0     1     0     0   \n",
       "4   5   w  s  as  c  d  y  i  m    0  ...     1     0     0     0     0     0   \n",
       "\n",
       "   X382  X383  X384  X385  \n",
       "0     0     0     0     0  \n",
       "1     0     0     0     0  \n",
       "2     0     0     0     0  \n",
       "3     0     0     0     0  \n",
       "4     0     0     0     0  \n",
       "\n",
       "[5 rows x 377 columns]"
      ]
     },
     "execution_count": 4,
     "metadata": {},
     "output_type": "execute_result"
    }
   ],
   "source": [
    "testset.head()"
   ]
  },
  {
   "cell_type": "code",
   "execution_count": 5,
   "metadata": {},
   "outputs": [
    {
     "name": "stdout",
     "output_type": "stream",
     "text": [
      "<class 'pandas.core.frame.DataFrame'>\n",
      "RangeIndex: 4209 entries, 0 to 4208\n",
      "Columns: 378 entries, ID to X385\n",
      "dtypes: float64(1), int64(369), object(8)\n",
      "memory usage: 12.1+ MB\n"
     ]
    }
   ],
   "source": [
    "trainset.info()"
   ]
  },
  {
   "cell_type": "code",
   "execution_count": 6,
   "metadata": {},
   "outputs": [
    {
     "name": "stdout",
     "output_type": "stream",
     "text": [
      "The minimum time spent by the car in testing 72.11 s\n",
      "The 25 percent of the cars less than 90.8200 s on testing\n",
      "The 50 percent of the cars less than 99.1500 s on testing\n",
      "The 75 percent of the cars less than 109.0100 s on testing\n"
     ]
    }
   ],
   "source": [
    "#Printing some insights:\n",
    "desc=trainset['y'].describe()\n",
    "print('The minimum time spent by the car in testing', desc[3],'s')\n",
    "print('The 25 percent of the cars less than %.4f s on testing'%desc[4])\n",
    "print('The 50 percent of the cars less than %.4f s on testing'%desc[5])\n",
    "print('The 75 percent of the cars less than %.4f s on testing'%desc[6])"
   ]
  },
  {
   "cell_type": "markdown",
   "metadata": {},
   "source": [
    "\"Checking For Missing values in Train and Test Dataset\""
   ]
  },
  {
   "cell_type": "code",
   "execution_count": 7,
   "metadata": {},
   "outputs": [
    {
     "name": "stdout",
     "output_type": "stream",
     "text": [
      "Checking missing value in train_df\n",
      "There are no missing values in the data\n",
      "Checking missing value in test_df\n",
      "There are no missing values in the data\n"
     ]
    }
   ],
   "source": [
    "#Checking for missing values\n",
    "\n",
    "def missing_values(df):\n",
    "    if df.isnull().any().any():\n",
    "        print('There are missing values in the data' )\n",
    "    else:\n",
    "        print('There are no missing values in the data')\n",
    "print(\"Checking missing value in train_df\")\n",
    "missing_values(trainset)\n",
    "print(\"Checking missing value in test_df\")\n",
    "missing_values(testset)\n"
   ]
  },
  {
   "cell_type": "code",
   "execution_count": 8,
   "metadata": {},
   "outputs": [
    {
     "data": {
      "image/png": "[encoded data removed]",
      "text/plain": [
       "<Figure size 368x360 with 1 Axes>"
      ]
     },
     "metadata": {
      "needs_background": "light"
     },
     "output_type": "display_data"
    }
   ],
   "source": [
    "#Probability Density Function\n",
    "\n",
    "sns.FacetGrid(trainset,height=5).map(sns.distplot,'y').add_legend()\n",
    "plt.ylabel('Probability')\n",
    "plt.title(\"Distribution of y\")\n",
    "plt.grid()\n",
    "plt.show()"
   ]
  },
  {
   "cell_type": "markdown",
   "metadata": {},
   "source": [
    "\n",
    "\"Removing columns with zero variance\""
   ]
  },
  {
   "cell_type": "code",
   "execution_count": 9,
   "metadata": {},
   "outputs": [
    {
     "name": "stdout",
     "output_type": "stream",
     "text": [
      "(4209, 378) (4209, 377)\n",
      "(4209, 366) (4209, 365)\n"
     ]
    }
   ],
   "source": [
    "#Function for deleting columns with zero variance\n",
    "print(trainset.shape , testset.shape)\n",
    "def drop_constant_df(df1,df2):\n",
    "    columns=df1.columns.values\n",
    "    for col in columns:\n",
    "        if df1[col].nunique(dropna=False)==1:\n",
    "            del df1[col]\n",
    "            del df2[col]\n",
    "    return df1, df2\n",
    "\n",
    "drop_constant_df(trainset,testset)\n",
    "print(trainset.shape , testset.shape)\n"
   ]
  },
  {
   "cell_type": "markdown",
   "metadata": {},
   "source": [
    "\"Checking Unique values in categorical columns"
   ]
  },
  {
   "cell_type": "code",
   "execution_count": 10,
   "metadata": {},
   "outputs": [
    {
     "name": "stdout",
     "output_type": "stream",
     "text": [
      "Checking unique values in train_df\n",
      "X0\n",
      "['k' 'az' 't' 'al' 'o' 'w' 'j' 'h' 's' 'n' 'ay' 'f' 'x' 'y' 'aj' 'ak' 'am'\n",
      " 'z' 'q' 'at' 'ap' 'v' 'af' 'a' 'e' 'ai' 'd' 'aq' 'c' 'aa' 'ba' 'as' 'i'\n",
      " 'r' 'b' 'ax' 'bc' 'u' 'ad' 'au' 'm' 'l' 'aw' 'ao' 'ac' 'g' 'ab']\n",
      "X1\n",
      "['v' 't' 'w' 'b' 'r' 'l' 's' 'aa' 'c' 'a' 'e' 'h' 'z' 'j' 'o' 'u' 'p' 'n'\n",
      " 'i' 'y' 'd' 'f' 'm' 'k' 'g' 'q' 'ab']\n",
      "X2\n",
      "['at' 'av' 'n' 'e' 'as' 'aq' 'r' 'ai' 'ak' 'm' 'a' 'k' 'ae' 's' 'f' 'd'\n",
      " 'ag' 'ay' 'ac' 'ap' 'g' 'i' 'aw' 'y' 'b' 'ao' 'al' 'h' 'x' 'au' 't' 'an'\n",
      " 'z' 'ah' 'p' 'am' 'j' 'q' 'af' 'l' 'aa' 'c' 'o' 'ar']\n",
      "X3\n",
      "['a' 'e' 'c' 'f' 'd' 'b' 'g']\n",
      "X4\n",
      "['d' 'b' 'c' 'a']\n",
      "X5\n",
      "['u' 'y' 'x' 'h' 'g' 'f' 'j' 'i' 'd' 'c' 'af' 'ag' 'ab' 'ac' 'ad' 'ae'\n",
      " 'ah' 'l' 'k' 'n' 'm' 'p' 'q' 's' 'r' 'v' 'w' 'o' 'aa']\n",
      "X6\n",
      "['j' 'l' 'd' 'h' 'i' 'a' 'g' 'c' 'k' 'e' 'f' 'b']\n",
      "X8\n",
      "['o' 'x' 'e' 'n' 's' 'a' 'h' 'p' 'm' 'k' 'd' 'i' 'v' 'j' 'b' 'q' 'w' 'g'\n",
      " 'y' 'l' 'f' 'u' 'r' 't' 'c']\n",
      "Checking unique values in test_df\n",
      "X0\n",
      "['az' 't' 'w' 'y' 'x' 'f' 'ap' 'o' 'ay' 'al' 'h' 'z' 'aj' 'd' 'v' 'ak'\n",
      " 'ba' 'n' 'j' 's' 'af' 'ax' 'at' 'aq' 'av' 'm' 'k' 'a' 'e' 'ai' 'i' 'ag'\n",
      " 'b' 'am' 'aw' 'as' 'r' 'ao' 'u' 'l' 'c' 'ad' 'au' 'bc' 'g' 'an' 'ae' 'p'\n",
      " 'bb']\n",
      "X1\n",
      "['v' 'b' 'l' 's' 'aa' 'r' 'a' 'i' 'p' 'c' 'o' 'm' 'z' 'e' 'h' 'w' 'g' 'k'\n",
      " 'y' 't' 'u' 'd' 'j' 'q' 'n' 'f' 'ab']\n",
      "X2\n",
      "['n' 'ai' 'as' 'ae' 's' 'b' 'e' 'ak' 'm' 'a' 'aq' 'ag' 'r' 'k' 'aj' 'ay'\n",
      " 'ao' 'an' 'ac' 'af' 'ax' 'h' 'i' 'f' 'ap' 'p' 'au' 't' 'z' 'y' 'aw' 'd'\n",
      " 'at' 'g' 'am' 'j' 'x' 'ab' 'w' 'q' 'ah' 'ad' 'al' 'av' 'u']\n",
      "X3\n",
      "['f' 'a' 'c' 'e' 'd' 'g' 'b']\n",
      "X4\n",
      "['d' 'b' 'a' 'c']\n",
      "X5\n",
      "['t' 'b' 'a' 'z' 'y' 'x' 'h' 'g' 'f' 'j' 'i' 'd' 'c' 'af' 'ag' 'ab' 'ac'\n",
      " 'ad' 'ae' 'ah' 'l' 'k' 'n' 'm' 'p' 'q' 's' 'r' 'v' 'w' 'o' 'aa']\n",
      "X6\n",
      "['a' 'g' 'j' 'l' 'i' 'd' 'f' 'h' 'c' 'k' 'e' 'b']\n",
      "X8\n",
      "['w' 'y' 'j' 'n' 'm' 's' 'a' 'v' 'r' 'o' 't' 'h' 'c' 'k' 'p' 'u' 'd' 'g'\n",
      " 'b' 'q' 'e' 'l' 'f' 'i' 'x']\n"
     ]
    }
   ],
   "source": [
    "\n",
    "def unique_values(df):\n",
    "    for col in df.columns:\n",
    "        if df[col].dtype=='object':\n",
    "            print(col)\n",
    "            print(df[col].unique())\n",
    "            \n",
    "print(\"Checking unique values in train_df\")\n",
    "unique_values(trainset)\n",
    "print(\"Checking unique values in test_df\")\n",
    "unique_values(testset)"
   ]
  },
  {
   "cell_type": "code",
   "execution_count": 11,
   "metadata": {},
   "outputs": [
    {
     "name": "stdout",
     "output_type": "stream",
     "text": [
      "Categories of X0 present in train but absent in test:{'ab', 'ac', 'q', 'aa'}\n",
      "Categories of X0 present in test but absent in train:{'bb', 'ae', 'ag', 'an', 'p', 'av'}\n",
      "\n",
      "Categories of X2 present in train but absent in test:{'c', 'aa', 'o', 'l', 'ar'}\n",
      "Categories of X2 present in test but absent in train:{'w', 'ab', 'u', 'aj', 'ax', 'ad'}\n",
      "\n",
      "Categories of X5 present in train but absent in test:{'u'}\n",
      "Categories of X5 present in test but absent in train:{'a', 't', 'z', 'b'}\n",
      "\n"
     ]
    }
   ],
   "source": [
    "#We saw that columns X0, X2 and X5 have different categorical values, we need to check them\n",
    "diff= ['X0','X2','X5']\n",
    "for col in diff:\n",
    "    a= set(sorted(list(trainset[col].unique())))\n",
    "    b= set(sorted(list(testset[col].unique())))\n",
    "    print(\"Categories of {} present in train but absent in test:{}\".format(col,a-b))\n",
    "    print(\"Categories of {} present in test but absent in train:{}\\n\".format(col,b-a))\n"
   ]
  },
  {
   "cell_type": "code",
   "execution_count": 12,
   "metadata": {},
   "outputs": [
    {
     "name": "stdout",
     "output_type": "stream",
     "text": [
      "(4209, 357) (4209, 357)\n"
     ]
    }
   ],
   "source": [
    "\n",
    "train_binary= trainset.copy() #creating a copy of the dataframe\n",
    "train_binary= train_binary.drop(['y','X0', 'X1', 'X2', 'X3', 'X4', 'X5', 'X6', 'X8'],axis=1)\n",
    "test_binary= testset.copy() #creating a copy of the dataframe\n",
    "test_binary= test_binary.drop(['X0', 'X1', 'X2', 'X3', 'X4', 'X5', 'X6', 'X8'],axis=1)\n",
    "print(train_binary.shape, test_binary.shape)"
   ]
  },
  {
   "cell_type": "code",
   "execution_count": 13,
   "metadata": {},
   "outputs": [
    {
     "name": "stdout",
     "output_type": "stream",
     "text": [
      "Number of columns having very less variance are:\n",
      " 283\n",
      "Columns are:\n",
      " ['X10', 'X12', 'X13', 'X15', 'X16', 'X17', 'X18', 'X19', 'X20', 'X21', 'X22', 'X23', 'X24', 'X26', 'X28', 'X29', 'X30', 'X32', 'X33', 'X34', 'X36', 'X38', 'X39', 'X40', 'X41', 'X42', 'X43', 'X44', 'X47', 'X48', 'X49', 'X52', 'X53', 'X54', 'X55', 'X56', 'X57', 'X59', 'X60', 'X61', 'X62', 'X63', 'X65', 'X66', 'X67', 'X68', 'X69', 'X70', 'X71', 'X73', 'X74', 'X75', 'X76', 'X77', 'X78', 'X79', 'X80', 'X82', 'X83', 'X84', 'X86', 'X87', 'X88', 'X89', 'X90', 'X91', 'X92', 'X94', 'X95', 'X97', 'X98', 'X99', 'X101', 'X102', 'X104', 'X105', 'X106', 'X108', 'X109', 'X110', 'X111', 'X112', 'X113', 'X114', 'X117', 'X120', 'X122', 'X123', 'X124', 'X125', 'X126', 'X128', 'X129', 'X130', 'X131', 'X133', 'X134', 'X135', 'X136', 'X138', 'X139', 'X140', 'X141', 'X143', 'X145', 'X146', 'X147', 'X148', 'X151', 'X152', 'X153', 'X155', 'X159', 'X160', 'X162', 'X164', 'X165', 'X166', 'X167', 'X169', 'X170', 'X172', 'X173', 'X174', 'X175', 'X176', 'X177', 'X179', 'X180', 'X181', 'X182', 'X183', 'X184', 'X185', 'X189', 'X190', 'X192', 'X195', 'X196', 'X197', 'X198', 'X199', 'X200', 'X201', 'X203', 'X204', 'X205', 'X206', 'X207', 'X208', 'X209', 'X210', 'X211', 'X212', 'X213', 'X214', 'X215', 'X216', 'X217', 'X219', 'X221', 'X222', 'X225', 'X226', 'X227', 'X228', 'X229', 'X230', 'X231', 'X232', 'X236', 'X237', 'X238', 'X239', 'X240', 'X241', 'X242', 'X243', 'X244', 'X245', 'X248', 'X249', 'X252', 'X253', 'X254', 'X255', 'X256', 'X257', 'X258', 'X259', 'X260', 'X262', 'X263', 'X264', 'X265', 'X266', 'X267', 'X269', 'X270', 'X271', 'X272', 'X274', 'X276', 'X277', 'X278', 'X279', 'X280', 'X281', 'X282', 'X283', 'X284', 'X286', 'X287', 'X288', 'X291', 'X292', 'X294', 'X295', 'X296', 'X298', 'X299', 'X301', 'X302', 'X304', 'X305', 'X306', 'X307', 'X308', 'X309', 'X310', 'X312', 'X315', 'X317', 'X318', 'X319', 'X320', 'X322', 'X323', 'X325', 'X326', 'X327', 'X328', 'X331', 'X332', 'X333', 'X335', 'X336', 'X338', 'X339', 'X340', 'X341', 'X342', 'X343', 'X344', 'X345', 'X346', 'X348', 'X349', 'X352', 'X353', 'X356', 'X357', 'X359', 'X360', 'X361', 'X364', 'X365', 'X366', 'X367', 'X368', 'X369', 'X370', 'X371', 'X372', 'X373', 'X376', 'X378', 'X379', 'X380', 'X382', 'X383', 'X384', 'X385']\n"
     ]
    }
   ],
   "source": [
    "#setting Variance threshold to remove low variance features\n",
    "\n",
    "def remove_low_var_col(df1,df2):\n",
    "    low_var_cols=[]\n",
    "    for i in train_binary.columns:\n",
    "        if train_binary[i].var()<0.15: #Threshold value is experimental\n",
    "            low_var_cols.append(i)\n",
    "    print(\"Number of columns having very less variance are:\\n\",len(low_var_cols))\n",
    "    print(\"Columns are:\\n\",low_var_cols)\n",
    "    return low_var_cols\n",
    "\n",
    "low_var_cols=remove_low_var_col(train_binary,test_binary)\n"
   ]
  },
  {
   "cell_type": "code",
   "execution_count": 14,
   "metadata": {},
   "outputs": [
    {
     "name": "stdout",
     "output_type": "stream",
     "text": [
      "(4209, 74) (4209, 74) \n",
      " (4209, 83) (4209, 82)\n"
     ]
    }
   ],
   "source": [
    "#Dropping columns from datasets from binary and whole datasets of train and test\n",
    "train_binary=train_binary.drop(low_var_cols,axis=1)\n",
    "test_binary=test_binary.drop(low_var_cols,axis=1)\n",
    "trainset=trainset.drop(low_var_cols,axis=1)\n",
    "testset=testset.drop(low_var_cols,axis=1)\n",
    "\n",
    "print(train_binary.shape,test_binary.shape,'\\n',trainset.shape,testset.shape)"
   ]
  },
  {
   "cell_type": "markdown",
   "metadata": {},
   "source": [
    "\"Outlier Detection\""
   ]
  },
  {
   "cell_type": "code",
   "execution_count": 15,
   "metadata": {},
   "outputs": [
    {
     "data": {
      "text/plain": [
       "<AxesSubplot:xlabel='y'>"
      ]
     },
     "execution_count": 15,
     "metadata": {},
     "output_type": "execute_result"
    },
    {
     "data": {
      "image/png": "[encoded data removed]",
      "text/plain": [
       "<Figure size 432x288 with 1 Axes>"
      ]
     },
     "metadata": {
      "needs_background": "light"
     },
     "output_type": "display_data"
    }
   ],
   "source": [
    "sns.boxplot(trainset['y'])"
   ]
  },
  {
   "cell_type": "markdown",
   "metadata": {},
   "source": [
    "\"Outliers Elimination\""
   ]
  },
  {
   "cell_type": "code",
   "execution_count": 16,
   "metadata": {},
   "outputs": [
    {
     "name": "stdout",
     "output_type": "stream",
     "text": [
      "(4159, 83)\n"
     ]
    }
   ],
   "source": [
    "def outlier_elimination(datacolumn):\n",
    "    sorted(datacolumn)\n",
    "    Q1,Q3 = np.percentile(datacolumn , [25,75])\n",
    "    IQR = Q3 - Q1\n",
    "    lower_range = Q1 - (1.5 * IQR)\n",
    "    upper_range = Q3 + (1.5 * IQR)\n",
    "    return lower_range,upper_range\n",
    "l,u = outlier_elimination(trainset['y'])\n",
    "trainset.drop(trainset[ (trainset['y'] > u) | (trainset['y'] < l) ].index , inplace=True)\n",
    "print(trainset.shape)\n"
   ]
  },
  {
   "cell_type": "code",
   "execution_count": 17,
   "metadata": {},
   "outputs": [
    {
     "name": "stdout",
     "output_type": "stream",
     "text": [
      "Number of correlated pairs: 1\n",
      "Correlation values:\n",
      " [0.9999999999999999]\n",
      "Feature pairs:\n",
      " [('X35', 'X37')]\n"
     ]
    }
   ],
   "source": [
    "def getDuplicateColumns(df):\n",
    "    duplicateColumnNames = set()\n",
    "    # Iterate over all the columns in dataframe\n",
    "    pairs=[]\n",
    "    for x in range(df.shape[1]):\n",
    "        # Select column at xth index.\n",
    "        col = df.iloc[:, x]\n",
    "        # Iterate over all the columns in DataFrame from (x+1)th   index till end\n",
    "        for y in range(x + 1, df.shape[1]):\n",
    "            # Select column at yth index.\n",
    "            otherCol = df.iloc[:, y]\n",
    "            # Check if two columns at x 7 y index are equal\n",
    "            if col.equals(otherCol):\n",
    "                duplicateColumnNames.add(df.columns.values[y])\n",
    "                #pairs.append((df.columns.values[x],df.columns.values[y]))\n",
    "    temp= df.copy()\n",
    "    temp= temp.drop('ID',axis=1)\n",
    "    corr_values=[]\n",
    "    high_corr=[]\n",
    "    cols = list(duplicateColumnNames)\n",
    "    for i in range(len(cols)):\n",
    "        for j in range(i+1,len(cols)):\n",
    "            val=temp[cols[i]].corr(temp[cols[j]])\n",
    "            if val>=0.90:\n",
    "                corr_values.append(val)\n",
    "                high_corr.append((cols[i],cols[j]))\n",
    "    print(\"Number of correlated pairs:\",len(high_corr))\n",
    "    print(\"Correlation values:\\n\",corr_values)\n",
    "    print(\"Feature pairs:\\n\",high_corr)\n",
    "    \n",
    "    return duplicateColumnNames ,high_corr\n",
    "dup_col,hc_corr_pair=getDuplicateColumns(train_binary)\n"
   ]
  },
  {
   "cell_type": "code",
   "execution_count": 18,
   "metadata": {},
   "outputs": [
    {
     "name": "stdout",
     "output_type": "stream",
     "text": [
      "(4209, 73) (4209, 73) \n",
      " (4159, 82) (4209, 81)\n"
     ]
    }
   ],
   "source": [
    "for i in range(0,len(hc_corr_pair)):\n",
    "    if hc_corr_pair[i][1] in train_binary.columns:\n",
    "        train_binary=train_binary.drop(hc_corr_pair[i][1],axis=1)\n",
    "        test_binary=test_binary.drop(hc_corr_pair[i][1],axis=1)\n",
    "        trainset=trainset.drop(hc_corr_pair[i][1],axis=1)\n",
    "        testset=testset.drop(hc_corr_pair[i][1],axis=1)\n",
    "        \n",
    "print(train_binary.shape,test_binary.shape,'\\n',trainset.shape,testset.shape)"
   ]
  },
  {
   "cell_type": "code",
   "execution_count": 19,
   "metadata": {},
   "outputs": [],
   "source": [
    "#Do we need to check for interactions?"
   ]
  },
  {
   "cell_type": "code",
   "execution_count": 20,
   "metadata": {},
   "outputs": [
    {
     "name": "stdout",
     "output_type": "stream",
     "text": [
      "(4159, 81) (4159, 1) <class 'pandas.core.frame.DataFrame'>\n"
     ]
    }
   ],
   "source": [
    "# Removing target from train set\n",
    "feat=np.array(trainset.columns)\n",
    "feat=np.delete(feat,1)\n",
    "X_train=trainset.loc[:,feat]\n",
    "X_train\n",
    "y_tr=trainset.loc[:,['y']]\n",
    "y_tr\n",
    "\n",
    "print(X_train.shape,y_tr.shape,type(y_tr))"
   ]
  },
  {
   "cell_type": "code",
   "execution_count": 21,
   "metadata": {},
   "outputs": [
    {
     "data": {
      "text/plain": [
       "135.53"
      ]
     },
     "execution_count": 21,
     "metadata": {},
     "output_type": "execute_result"
    }
   ],
   "source": [
    "ytrmax=float(y_tr.max())\n",
    "ytrmin=float(y_tr.min())\n",
    "type(ytrmax)\n",
    "ytrmax"
   ]
  },
  {
   "cell_type": "code",
   "execution_count": 22,
   "metadata": {},
   "outputs": [
    {
     "data": {
      "text/html": [
       "<div>\n",
       "<style scoped>\n",
       "    .dataframe tbody tr th:only-of-type {\n",
       "        vertical-align: middle;\n",
       "    }\n",
       "\n",
       "    .dataframe tbody tr th {\n",
       "        vertical-align: top;\n",
       "    }\n",
       "\n",
       "    .dataframe thead th {\n",
       "        text-align: right;\n",
       "    }\n",
       "</style>\n",
       "<table border=\"1\" class=\"dataframe\">\n",
       "  <thead>\n",
       "    <tr style=\"text-align: right;\">\n",
       "      <th></th>\n",
       "      <th>y</th>\n",
       "    </tr>\n",
       "  </thead>\n",
       "  <tbody>\n",
       "    <tr>\n",
       "      <th>count</th>\n",
       "      <td>4159.000000</td>\n",
       "    </tr>\n",
       "    <tr>\n",
       "      <th>mean</th>\n",
       "      <td>0.441283</td>\n",
       "    </tr>\n",
       "    <tr>\n",
       "      <th>std</th>\n",
       "      <td>0.180324</td>\n",
       "    </tr>\n",
       "    <tr>\n",
       "      <th>min</th>\n",
       "      <td>0.000000</td>\n",
       "    </tr>\n",
       "    <tr>\n",
       "      <th>25%</th>\n",
       "      <td>0.294387</td>\n",
       "    </tr>\n",
       "    <tr>\n",
       "      <th>50%</th>\n",
       "      <td>0.423526</td>\n",
       "    </tr>\n",
       "    <tr>\n",
       "      <th>75%</th>\n",
       "      <td>0.578839</td>\n",
       "    </tr>\n",
       "    <tr>\n",
       "      <th>max</th>\n",
       "      <td>1.000000</td>\n",
       "    </tr>\n",
       "  </tbody>\n",
       "</table>\n",
       "</div>"
      ],
      "text/plain": [
       "                 y\n",
       "count  4159.000000\n",
       "mean      0.441283\n",
       "std       0.180324\n",
       "min       0.000000\n",
       "25%       0.294387\n",
       "50%       0.423526\n",
       "75%       0.578839\n",
       "max       1.000000"
      ]
     },
     "execution_count": 22,
     "metadata": {},
     "output_type": "execute_result"
    }
   ],
   "source": [
    "#Normalizing train target\n",
    "y_train=((y_tr-y_tr.min())/(y_tr.max()-y_tr.min()))\n",
    "y_train.describe()\n"
   ]
  },
  {
   "cell_type": "code",
   "execution_count": 23,
   "metadata": {},
   "outputs": [
    {
     "name": "stdout",
     "output_type": "stream",
     "text": [
      "y    72.11\n",
      "dtype: float64 y    135.53\n",
      "dtype: float64\n"
     ]
    }
   ],
   "source": [
    "print(y_tr.min(),y_tr.max())"
   ]
  },
  {
   "cell_type": "code",
   "execution_count": 24,
   "metadata": {},
   "outputs": [],
   "source": [
    "X_test=testset.copy()"
   ]
  },
  {
   "cell_type": "markdown",
   "metadata": {},
   "source": [
    "# Label Encoding\n",
    "\n"
   ]
  },
  {
   "cell_type": "code",
   "execution_count": 25,
   "metadata": {},
   "outputs": [
    {
     "name": "stdout",
     "output_type": "stream",
     "text": [
      "(4159, 81) (4209, 81)\n"
     ]
    }
   ],
   "source": [
    "Cat_features=X_train.select_dtypes(include=['object']).copy()\n",
    "LE=LabelEncoder()\n",
    "for col in Cat_features:\n",
    "    LE.fit(X_train[col])\n",
    "    X_train[col]=pd.Categorical(LE.transform(X_train[col]))\n",
    "    LE.fit(X_test[col])\n",
    "    X_test[col]=pd.Categorical(LE.transform(X_test[col]))\n",
    "print(X_train.shape,X_test.shape)"
   ]
  },
  {
   "cell_type": "code",
   "execution_count": 26,
   "metadata": {},
   "outputs": [
    {
     "data": {
      "text/html": [
       "<div>\n",
       "<style scoped>\n",
       "    .dataframe tbody tr th:only-of-type {\n",
       "        vertical-align: middle;\n",
       "    }\n",
       "\n",
       "    .dataframe tbody tr th {\n",
       "        vertical-align: top;\n",
       "    }\n",
       "\n",
       "    .dataframe thead th {\n",
       "        text-align: right;\n",
       "    }\n",
       "</style>\n",
       "<table border=\"1\" class=\"dataframe\">\n",
       "  <thead>\n",
       "    <tr style=\"text-align: right;\">\n",
       "      <th></th>\n",
       "      <th>ID</th>\n",
       "      <th>X0</th>\n",
       "      <th>X1</th>\n",
       "      <th>X2</th>\n",
       "      <th>X3</th>\n",
       "      <th>X4</th>\n",
       "      <th>X5</th>\n",
       "      <th>X6</th>\n",
       "      <th>X8</th>\n",
       "      <th>X14</th>\n",
       "      <th>...</th>\n",
       "      <th>X350</th>\n",
       "      <th>X351</th>\n",
       "      <th>X354</th>\n",
       "      <th>X355</th>\n",
       "      <th>X358</th>\n",
       "      <th>X362</th>\n",
       "      <th>X363</th>\n",
       "      <th>X374</th>\n",
       "      <th>X375</th>\n",
       "      <th>X377</th>\n",
       "    </tr>\n",
       "  </thead>\n",
       "  <tbody>\n",
       "    <tr>\n",
       "      <th>0</th>\n",
       "      <td>0</td>\n",
       "      <td>32</td>\n",
       "      <td>23</td>\n",
       "      <td>16</td>\n",
       "      <td>0</td>\n",
       "      <td>3</td>\n",
       "      <td>24</td>\n",
       "      <td>9</td>\n",
       "      <td>14</td>\n",
       "      <td>0</td>\n",
       "      <td>...</td>\n",
       "      <td>0</td>\n",
       "      <td>0</td>\n",
       "      <td>1</td>\n",
       "      <td>0</td>\n",
       "      <td>0</td>\n",
       "      <td>0</td>\n",
       "      <td>0</td>\n",
       "      <td>0</td>\n",
       "      <td>0</td>\n",
       "      <td>1</td>\n",
       "    </tr>\n",
       "    <tr>\n",
       "      <th>1</th>\n",
       "      <td>6</td>\n",
       "      <td>32</td>\n",
       "      <td>21</td>\n",
       "      <td>18</td>\n",
       "      <td>4</td>\n",
       "      <td>3</td>\n",
       "      <td>28</td>\n",
       "      <td>11</td>\n",
       "      <td>14</td>\n",
       "      <td>0</td>\n",
       "      <td>...</td>\n",
       "      <td>0</td>\n",
       "      <td>0</td>\n",
       "      <td>0</td>\n",
       "      <td>0</td>\n",
       "      <td>0</td>\n",
       "      <td>0</td>\n",
       "      <td>1</td>\n",
       "      <td>0</td>\n",
       "      <td>1</td>\n",
       "      <td>0</td>\n",
       "    </tr>\n",
       "    <tr>\n",
       "      <th>2</th>\n",
       "      <td>7</td>\n",
       "      <td>20</td>\n",
       "      <td>24</td>\n",
       "      <td>33</td>\n",
       "      <td>2</td>\n",
       "      <td>3</td>\n",
       "      <td>27</td>\n",
       "      <td>9</td>\n",
       "      <td>23</td>\n",
       "      <td>0</td>\n",
       "      <td>...</td>\n",
       "      <td>1</td>\n",
       "      <td>0</td>\n",
       "      <td>1</td>\n",
       "      <td>0</td>\n",
       "      <td>1</td>\n",
       "      <td>0</td>\n",
       "      <td>1</td>\n",
       "      <td>0</td>\n",
       "      <td>0</td>\n",
       "      <td>0</td>\n",
       "    </tr>\n",
       "    <tr>\n",
       "      <th>3</th>\n",
       "      <td>9</td>\n",
       "      <td>20</td>\n",
       "      <td>21</td>\n",
       "      <td>33</td>\n",
       "      <td>5</td>\n",
       "      <td>3</td>\n",
       "      <td>27</td>\n",
       "      <td>11</td>\n",
       "      <td>4</td>\n",
       "      <td>0</td>\n",
       "      <td>...</td>\n",
       "      <td>1</td>\n",
       "      <td>0</td>\n",
       "      <td>0</td>\n",
       "      <td>0</td>\n",
       "      <td>1</td>\n",
       "      <td>0</td>\n",
       "      <td>1</td>\n",
       "      <td>0</td>\n",
       "      <td>0</td>\n",
       "      <td>0</td>\n",
       "    </tr>\n",
       "    <tr>\n",
       "      <th>4</th>\n",
       "      <td>13</td>\n",
       "      <td>20</td>\n",
       "      <td>23</td>\n",
       "      <td>33</td>\n",
       "      <td>5</td>\n",
       "      <td>3</td>\n",
       "      <td>12</td>\n",
       "      <td>3</td>\n",
       "      <td>13</td>\n",
       "      <td>0</td>\n",
       "      <td>...</td>\n",
       "      <td>1</td>\n",
       "      <td>0</td>\n",
       "      <td>0</td>\n",
       "      <td>0</td>\n",
       "      <td>1</td>\n",
       "      <td>0</td>\n",
       "      <td>1</td>\n",
       "      <td>0</td>\n",
       "      <td>0</td>\n",
       "      <td>0</td>\n",
       "    </tr>\n",
       "  </tbody>\n",
       "</table>\n",
       "<p>5 rows × 81 columns</p>\n",
       "</div>"
      ],
      "text/plain": [
       "   ID  X0  X1  X2 X3 X4  X5  X6  X8  X14  ...  X350  X351  X354  X355  X358  \\\n",
       "0   0  32  23  16  0  3  24   9  14    0  ...     0     0     1     0     0   \n",
       "1   6  32  21  18  4  3  28  11  14    0  ...     0     0     0     0     0   \n",
       "2   7  20  24  33  2  3  27   9  23    0  ...     1     0     1     0     1   \n",
       "3   9  20  21  33  5  3  27  11   4    0  ...     1     0     0     0     1   \n",
       "4  13  20  23  33  5  3  12   3  13    0  ...     1     0     0     0     1   \n",
       "\n",
       "   X362  X363  X374  X375  X377  \n",
       "0     0     0     0     0     1  \n",
       "1     0     1     0     1     0  \n",
       "2     0     1     0     0     0  \n",
       "3     0     1     0     0     0  \n",
       "4     0     1     0     0     0  \n",
       "\n",
       "[5 rows x 81 columns]"
      ]
     },
     "execution_count": 26,
     "metadata": {},
     "output_type": "execute_result"
    }
   ],
   "source": [
    "X_train.head()"
   ]
  },
  {
   "cell_type": "code",
   "execution_count": 27,
   "metadata": {},
   "outputs": [
    {
     "data": {
      "text/html": [
       "<div>\n",
       "<style scoped>\n",
       "    .dataframe tbody tr th:only-of-type {\n",
       "        vertical-align: middle;\n",
       "    }\n",
       "\n",
       "    .dataframe tbody tr th {\n",
       "        vertical-align: top;\n",
       "    }\n",
       "\n",
       "    .dataframe thead th {\n",
       "        text-align: right;\n",
       "    }\n",
       "</style>\n",
       "<table border=\"1\" class=\"dataframe\">\n",
       "  <thead>\n",
       "    <tr style=\"text-align: right;\">\n",
       "      <th></th>\n",
       "      <th>ID</th>\n",
       "      <th>X0</th>\n",
       "      <th>X1</th>\n",
       "      <th>X2</th>\n",
       "      <th>X3</th>\n",
       "      <th>X4</th>\n",
       "      <th>X5</th>\n",
       "      <th>X6</th>\n",
       "      <th>X8</th>\n",
       "      <th>X14</th>\n",
       "      <th>...</th>\n",
       "      <th>X350</th>\n",
       "      <th>X351</th>\n",
       "      <th>X354</th>\n",
       "      <th>X355</th>\n",
       "      <th>X358</th>\n",
       "      <th>X362</th>\n",
       "      <th>X363</th>\n",
       "      <th>X374</th>\n",
       "      <th>X375</th>\n",
       "      <th>X377</th>\n",
       "    </tr>\n",
       "  </thead>\n",
       "  <tbody>\n",
       "    <tr>\n",
       "      <th>0</th>\n",
       "      <td>1</td>\n",
       "      <td>21</td>\n",
       "      <td>23</td>\n",
       "      <td>34</td>\n",
       "      <td>5</td>\n",
       "      <td>3</td>\n",
       "      <td>26</td>\n",
       "      <td>0</td>\n",
       "      <td>22</td>\n",
       "      <td>0</td>\n",
       "      <td>...</td>\n",
       "      <td>1</td>\n",
       "      <td>0</td>\n",
       "      <td>0</td>\n",
       "      <td>0</td>\n",
       "      <td>1</td>\n",
       "      <td>0</td>\n",
       "      <td>1</td>\n",
       "      <td>0</td>\n",
       "      <td>0</td>\n",
       "      <td>0</td>\n",
       "    </tr>\n",
       "    <tr>\n",
       "      <th>1</th>\n",
       "      <td>2</td>\n",
       "      <td>42</td>\n",
       "      <td>3</td>\n",
       "      <td>8</td>\n",
       "      <td>0</td>\n",
       "      <td>3</td>\n",
       "      <td>9</td>\n",
       "      <td>6</td>\n",
       "      <td>24</td>\n",
       "      <td>0</td>\n",
       "      <td>...</td>\n",
       "      <td>0</td>\n",
       "      <td>0</td>\n",
       "      <td>0</td>\n",
       "      <td>0</td>\n",
       "      <td>0</td>\n",
       "      <td>1</td>\n",
       "      <td>0</td>\n",
       "      <td>0</td>\n",
       "      <td>0</td>\n",
       "      <td>1</td>\n",
       "    </tr>\n",
       "    <tr>\n",
       "      <th>2</th>\n",
       "      <td>3</td>\n",
       "      <td>21</td>\n",
       "      <td>23</td>\n",
       "      <td>17</td>\n",
       "      <td>5</td>\n",
       "      <td>3</td>\n",
       "      <td>0</td>\n",
       "      <td>9</td>\n",
       "      <td>9</td>\n",
       "      <td>1</td>\n",
       "      <td>...</td>\n",
       "      <td>1</td>\n",
       "      <td>0</td>\n",
       "      <td>0</td>\n",
       "      <td>0</td>\n",
       "      <td>0</td>\n",
       "      <td>0</td>\n",
       "      <td>1</td>\n",
       "      <td>0</td>\n",
       "      <td>0</td>\n",
       "      <td>0</td>\n",
       "    </tr>\n",
       "    <tr>\n",
       "      <th>3</th>\n",
       "      <td>4</td>\n",
       "      <td>21</td>\n",
       "      <td>13</td>\n",
       "      <td>34</td>\n",
       "      <td>5</td>\n",
       "      <td>3</td>\n",
       "      <td>31</td>\n",
       "      <td>11</td>\n",
       "      <td>13</td>\n",
       "      <td>0</td>\n",
       "      <td>...</td>\n",
       "      <td>1</td>\n",
       "      <td>0</td>\n",
       "      <td>0</td>\n",
       "      <td>0</td>\n",
       "      <td>1</td>\n",
       "      <td>0</td>\n",
       "      <td>1</td>\n",
       "      <td>0</td>\n",
       "      <td>0</td>\n",
       "      <td>0</td>\n",
       "    </tr>\n",
       "    <tr>\n",
       "      <th>4</th>\n",
       "      <td>5</td>\n",
       "      <td>45</td>\n",
       "      <td>20</td>\n",
       "      <td>17</td>\n",
       "      <td>2</td>\n",
       "      <td>3</td>\n",
       "      <td>30</td>\n",
       "      <td>8</td>\n",
       "      <td>12</td>\n",
       "      <td>1</td>\n",
       "      <td>...</td>\n",
       "      <td>1</td>\n",
       "      <td>1</td>\n",
       "      <td>0</td>\n",
       "      <td>0</td>\n",
       "      <td>1</td>\n",
       "      <td>0</td>\n",
       "      <td>1</td>\n",
       "      <td>0</td>\n",
       "      <td>1</td>\n",
       "      <td>0</td>\n",
       "    </tr>\n",
       "  </tbody>\n",
       "</table>\n",
       "<p>5 rows × 81 columns</p>\n",
       "</div>"
      ],
      "text/plain": [
       "   ID  X0  X1  X2 X3 X4  X5  X6  X8  X14  ...  X350  X351  X354  X355  X358  \\\n",
       "0   1  21  23  34  5  3  26   0  22    0  ...     1     0     0     0     1   \n",
       "1   2  42   3   8  0  3   9   6  24    0  ...     0     0     0     0     0   \n",
       "2   3  21  23  17  5  3   0   9   9    1  ...     1     0     0     0     0   \n",
       "3   4  21  13  34  5  3  31  11  13    0  ...     1     0     0     0     1   \n",
       "4   5  45  20  17  2  3  30   8  12    1  ...     1     1     0     0     1   \n",
       "\n",
       "   X362  X363  X374  X375  X377  \n",
       "0     0     1     0     0     0  \n",
       "1     1     0     0     0     1  \n",
       "2     0     1     0     0     0  \n",
       "3     0     1     0     0     0  \n",
       "4     0     1     0     1     0  \n",
       "\n",
       "[5 rows x 81 columns]"
      ]
     },
     "execution_count": 27,
     "metadata": {},
     "output_type": "execute_result"
    }
   ],
   "source": [
    "X_test.head()"
   ]
  },
  {
   "cell_type": "markdown",
   "metadata": {},
   "source": [
    "# Dimensionality Reduction using PCA"
   ]
  },
  {
   "cell_type": "code",
   "execution_count": 28,
   "metadata": {},
   "outputs": [],
   "source": [
    "#STANDARIZATION\n",
    "scaler = StandardScaler()\n",
    "X_train_scaled = pd.DataFrame(scaler.fit_transform(X_train),index=X_train.index, columns=X_train.columns)\n",
    "X_test_scaled=pd.DataFrame(scaler.transform(X_test),index=X_test.index, columns=X_test.columns)"
   ]
  },
  {
   "cell_type": "code",
   "execution_count": 29,
   "metadata": {},
   "outputs": [
    {
     "data": {
      "text/html": [
       "<div>\n",
       "<style scoped>\n",
       "    .dataframe tbody tr th:only-of-type {\n",
       "        vertical-align: middle;\n",
       "    }\n",
       "\n",
       "    .dataframe tbody tr th {\n",
       "        vertical-align: top;\n",
       "    }\n",
       "\n",
       "    .dataframe thead th {\n",
       "        text-align: right;\n",
       "    }\n",
       "</style>\n",
       "<table border=\"1\" class=\"dataframe\">\n",
       "  <thead>\n",
       "    <tr style=\"text-align: right;\">\n",
       "      <th></th>\n",
       "      <th>ID</th>\n",
       "      <th>X0</th>\n",
       "      <th>X1</th>\n",
       "      <th>X2</th>\n",
       "      <th>X3</th>\n",
       "      <th>X4</th>\n",
       "      <th>X5</th>\n",
       "      <th>X6</th>\n",
       "      <th>X8</th>\n",
       "      <th>X14</th>\n",
       "      <th>...</th>\n",
       "      <th>X350</th>\n",
       "      <th>X351</th>\n",
       "      <th>X354</th>\n",
       "      <th>X355</th>\n",
       "      <th>X358</th>\n",
       "      <th>X362</th>\n",
       "      <th>X363</th>\n",
       "      <th>X374</th>\n",
       "      <th>X375</th>\n",
       "      <th>X377</th>\n",
       "    </tr>\n",
       "  </thead>\n",
       "  <tbody>\n",
       "    <tr>\n",
       "      <th>0</th>\n",
       "      <td>-1.726650</td>\n",
       "      <td>0.162640</td>\n",
       "      <td>1.392066</td>\n",
       "      <td>-0.026613</td>\n",
       "      <td>-1.679588</td>\n",
       "      <td>0.029112</td>\n",
       "      <td>1.290465</td>\n",
       "      <td>0.752997</td>\n",
       "      <td>0.341610</td>\n",
       "      <td>-0.864569</td>\n",
       "      <td>...</td>\n",
       "      <td>-0.717333</td>\n",
       "      <td>-0.650646</td>\n",
       "      <td>1.995204</td>\n",
       "      <td>-0.781915</td>\n",
       "      <td>-0.862024</td>\n",
       "      <td>-1.041997</td>\n",
       "      <td>-1.746327</td>\n",
       "      <td>-0.543355</td>\n",
       "      <td>-0.683388</td>\n",
       "      <td>1.477192</td>\n",
       "    </tr>\n",
       "    <tr>\n",
       "      <th>1</th>\n",
       "      <td>-1.724189</td>\n",
       "      <td>0.162640</td>\n",
       "      <td>1.157878</td>\n",
       "      <td>0.157402</td>\n",
       "      <td>0.615412</td>\n",
       "      <td>0.029112</td>\n",
       "      <td>1.775030</td>\n",
       "      <td>1.438275</td>\n",
       "      <td>0.341610</td>\n",
       "      <td>-0.864569</td>\n",
       "      <td>...</td>\n",
       "      <td>-0.717333</td>\n",
       "      <td>-0.650646</td>\n",
       "      <td>-0.501202</td>\n",
       "      <td>-0.781915</td>\n",
       "      <td>-0.862024</td>\n",
       "      <td>-1.041997</td>\n",
       "      <td>0.572630</td>\n",
       "      <td>-0.543355</td>\n",
       "      <td>1.463297</td>\n",
       "      <td>-0.676960</td>\n",
       "    </tr>\n",
       "    <tr>\n",
       "      <th>2</th>\n",
       "      <td>-1.723779</td>\n",
       "      <td>-0.713172</td>\n",
       "      <td>1.509160</td>\n",
       "      <td>1.537521</td>\n",
       "      <td>-0.532088</td>\n",
       "      <td>0.029112</td>\n",
       "      <td>1.653889</td>\n",
       "      <td>0.752997</td>\n",
       "      <td>1.620544</td>\n",
       "      <td>-0.864569</td>\n",
       "      <td>...</td>\n",
       "      <td>1.394053</td>\n",
       "      <td>-0.650646</td>\n",
       "      <td>1.995204</td>\n",
       "      <td>-0.781915</td>\n",
       "      <td>1.160061</td>\n",
       "      <td>-1.041997</td>\n",
       "      <td>0.572630</td>\n",
       "      <td>-0.543355</td>\n",
       "      <td>-0.683388</td>\n",
       "      <td>-0.676960</td>\n",
       "    </tr>\n",
       "    <tr>\n",
       "      <th>3</th>\n",
       "      <td>-1.722959</td>\n",
       "      <td>-0.713172</td>\n",
       "      <td>1.157878</td>\n",
       "      <td>1.537521</td>\n",
       "      <td>1.189162</td>\n",
       "      <td>0.029112</td>\n",
       "      <td>1.653889</td>\n",
       "      <td>1.438275</td>\n",
       "      <td>-1.079429</td>\n",
       "      <td>-0.864569</td>\n",
       "      <td>...</td>\n",
       "      <td>1.394053</td>\n",
       "      <td>-0.650646</td>\n",
       "      <td>-0.501202</td>\n",
       "      <td>-0.781915</td>\n",
       "      <td>1.160061</td>\n",
       "      <td>-1.041997</td>\n",
       "      <td>0.572630</td>\n",
       "      <td>-0.543355</td>\n",
       "      <td>-0.683388</td>\n",
       "      <td>-0.676960</td>\n",
       "    </tr>\n",
       "    <tr>\n",
       "      <th>4</th>\n",
       "      <td>-1.721319</td>\n",
       "      <td>-0.713172</td>\n",
       "      <td>1.392066</td>\n",
       "      <td>1.537521</td>\n",
       "      <td>1.189162</td>\n",
       "      <td>0.029112</td>\n",
       "      <td>-0.163231</td>\n",
       "      <td>-1.302834</td>\n",
       "      <td>0.199506</td>\n",
       "      <td>-0.864569</td>\n",
       "      <td>...</td>\n",
       "      <td>1.394053</td>\n",
       "      <td>-0.650646</td>\n",
       "      <td>-0.501202</td>\n",
       "      <td>-0.781915</td>\n",
       "      <td>1.160061</td>\n",
       "      <td>-1.041997</td>\n",
       "      <td>0.572630</td>\n",
       "      <td>-0.543355</td>\n",
       "      <td>-0.683388</td>\n",
       "      <td>-0.676960</td>\n",
       "    </tr>\n",
       "  </tbody>\n",
       "</table>\n",
       "<p>5 rows × 81 columns</p>\n",
       "</div>"
      ],
      "text/plain": [
       "         ID        X0        X1        X2        X3        X4        X5  \\\n",
       "0 -1.726650  0.162640  1.392066 -0.026613 -1.679588  0.029112  1.290465   \n",
       "1 -1.724189  0.162640  1.157878  0.157402  0.615412  0.029112  1.775030   \n",
       "2 -1.723779 -0.713172  1.509160  1.537521 -0.532088  0.029112  1.653889   \n",
       "3 -1.722959 -0.713172  1.157878  1.537521  1.189162  0.029112  1.653889   \n",
       "4 -1.721319 -0.713172  1.392066  1.537521  1.189162  0.029112 -0.163231   \n",
       "\n",
       "         X6        X8       X14  ...      X350      X351      X354      X355  \\\n",
       "0  0.752997  0.341610 -0.864569  ... -0.717333 -0.650646  1.995204 -0.781915   \n",
       "1  1.438275  0.341610 -0.864569  ... -0.717333 -0.650646 -0.501202 -0.781915   \n",
       "2  0.752997  1.620544 -0.864569  ...  1.394053 -0.650646  1.995204 -0.781915   \n",
       "3  1.438275 -1.079429 -0.864569  ...  1.394053 -0.650646 -0.501202 -0.781915   \n",
       "4 -1.302834  0.199506 -0.864569  ...  1.394053 -0.650646 -0.501202 -0.781915   \n",
       "\n",
       "       X358      X362      X363      X374      X375      X377  \n",
       "0 -0.862024 -1.041997 -1.746327 -0.543355 -0.683388  1.477192  \n",
       "1 -0.862024 -1.041997  0.572630 -0.543355  1.463297 -0.676960  \n",
       "2  1.160061 -1.041997  0.572630 -0.543355 -0.683388 -0.676960  \n",
       "3  1.160061 -1.041997  0.572630 -0.543355 -0.683388 -0.676960  \n",
       "4  1.160061 -1.041997  0.572630 -0.543355 -0.683388 -0.676960  \n",
       "\n",
       "[5 rows x 81 columns]"
      ]
     },
     "execution_count": 29,
     "metadata": {},
     "output_type": "execute_result"
    }
   ],
   "source": [
    "X_train_scaled.head()"
   ]
  },
  {
   "cell_type": "code",
   "execution_count": 30,
   "metadata": {},
   "outputs": [
    {
     "data": {
      "text/html": [
       "<div>\n",
       "<style scoped>\n",
       "    .dataframe tbody tr th:only-of-type {\n",
       "        vertical-align: middle;\n",
       "    }\n",
       "\n",
       "    .dataframe tbody tr th {\n",
       "        vertical-align: top;\n",
       "    }\n",
       "\n",
       "    .dataframe thead th {\n",
       "        text-align: right;\n",
       "    }\n",
       "</style>\n",
       "<table border=\"1\" class=\"dataframe\">\n",
       "  <thead>\n",
       "    <tr style=\"text-align: right;\">\n",
       "      <th></th>\n",
       "      <th>ID</th>\n",
       "      <th>X0</th>\n",
       "      <th>X1</th>\n",
       "      <th>X2</th>\n",
       "      <th>X3</th>\n",
       "      <th>X4</th>\n",
       "      <th>X5</th>\n",
       "      <th>X6</th>\n",
       "      <th>X8</th>\n",
       "      <th>X14</th>\n",
       "      <th>...</th>\n",
       "      <th>X350</th>\n",
       "      <th>X351</th>\n",
       "      <th>X354</th>\n",
       "      <th>X355</th>\n",
       "      <th>X358</th>\n",
       "      <th>X362</th>\n",
       "      <th>X363</th>\n",
       "      <th>X374</th>\n",
       "      <th>X375</th>\n",
       "      <th>X377</th>\n",
       "    </tr>\n",
       "  </thead>\n",
       "  <tbody>\n",
       "    <tr>\n",
       "      <th>0</th>\n",
       "      <td>1.979633</td>\n",
       "      <td>0.101121</td>\n",
       "      <td>3.666994</td>\n",
       "      <td>-0.311622</td>\n",
       "      <td>3.677675</td>\n",
       "      <td>0.874481</td>\n",
       "      <td>-0.417713</td>\n",
       "      <td>-1.943171</td>\n",
       "      <td>0.903206</td>\n",
       "      <td>-1.656762</td>\n",
       "      <td>...</td>\n",
       "      <td>0.053882</td>\n",
       "      <td>-0.064696</td>\n",
       "      <td>0.765714</td>\n",
       "      <td>-5.469000e-15</td>\n",
       "      <td>1.003156e-15</td>\n",
       "      <td>-1.245676e-15</td>\n",
       "      <td>-4.933974e-16</td>\n",
       "      <td>2.190186e-16</td>\n",
       "      <td>1.462055e-16</td>\n",
       "      <td>4.581877e-17</td>\n",
       "    </tr>\n",
       "    <tr>\n",
       "      <th>1</th>\n",
       "      <td>-0.511750</td>\n",
       "      <td>2.159374</td>\n",
       "      <td>2.231042</td>\n",
       "      <td>0.768399</td>\n",
       "      <td>1.604320</td>\n",
       "      <td>1.175893</td>\n",
       "      <td>-1.725615</td>\n",
       "      <td>1.932902</td>\n",
       "      <td>1.306531</td>\n",
       "      <td>-0.161049</td>\n",
       "      <td>...</td>\n",
       "      <td>0.659194</td>\n",
       "      <td>-0.232019</td>\n",
       "      <td>-0.048743</td>\n",
       "      <td>8.741039e-15</td>\n",
       "      <td>-3.301071e-15</td>\n",
       "      <td>1.332884e-15</td>\n",
       "      <td>3.360322e-15</td>\n",
       "      <td>9.210453e-16</td>\n",
       "      <td>1.676712e-16</td>\n",
       "      <td>1.249246e-16</td>\n",
       "    </tr>\n",
       "    <tr>\n",
       "      <th>2</th>\n",
       "      <td>-1.623258</td>\n",
       "      <td>0.902714</td>\n",
       "      <td>2.803427</td>\n",
       "      <td>-2.787332</td>\n",
       "      <td>3.370990</td>\n",
       "      <td>-3.519718</td>\n",
       "      <td>1.774649</td>\n",
       "      <td>-0.377720</td>\n",
       "      <td>0.271861</td>\n",
       "      <td>3.862221</td>\n",
       "      <td>...</td>\n",
       "      <td>-0.057466</td>\n",
       "      <td>-0.032657</td>\n",
       "      <td>-0.034176</td>\n",
       "      <td>-1.149995e-14</td>\n",
       "      <td>-1.837383e-15</td>\n",
       "      <td>8.951358e-16</td>\n",
       "      <td>3.427767e-15</td>\n",
       "      <td>2.603773e-15</td>\n",
       "      <td>5.806566e-16</td>\n",
       "      <td>1.085578e-16</td>\n",
       "    </tr>\n",
       "    <tr>\n",
       "      <th>3</th>\n",
       "      <td>-0.774324</td>\n",
       "      <td>2.217569</td>\n",
       "      <td>1.256841</td>\n",
       "      <td>-3.749484</td>\n",
       "      <td>2.760951</td>\n",
       "      <td>-2.823042</td>\n",
       "      <td>-0.356035</td>\n",
       "      <td>1.052578</td>\n",
       "      <td>1.297875</td>\n",
       "      <td>2.134328</td>\n",
       "      <td>...</td>\n",
       "      <td>-0.025671</td>\n",
       "      <td>-0.036173</td>\n",
       "      <td>-0.080420</td>\n",
       "      <td>1.805038e-14</td>\n",
       "      <td>-1.405591e-15</td>\n",
       "      <td>-2.289605e-16</td>\n",
       "      <td>-7.522151e-16</td>\n",
       "      <td>-5.669711e-16</td>\n",
       "      <td>-6.633512e-16</td>\n",
       "      <td>2.698729e-15</td>\n",
       "    </tr>\n",
       "    <tr>\n",
       "      <th>4</th>\n",
       "      <td>-1.307627</td>\n",
       "      <td>2.176432</td>\n",
       "      <td>1.286466</td>\n",
       "      <td>-4.177785</td>\n",
       "      <td>2.858837</td>\n",
       "      <td>-3.167789</td>\n",
       "      <td>-0.526852</td>\n",
       "      <td>0.829972</td>\n",
       "      <td>0.674091</td>\n",
       "      <td>4.139201</td>\n",
       "      <td>...</td>\n",
       "      <td>-0.016581</td>\n",
       "      <td>-0.029630</td>\n",
       "      <td>-0.047196</td>\n",
       "      <td>-2.174988e-15</td>\n",
       "      <td>2.870457e-16</td>\n",
       "      <td>1.364399e-16</td>\n",
       "      <td>4.270626e-18</td>\n",
       "      <td>-4.690206e-17</td>\n",
       "      <td>3.281635e-17</td>\n",
       "      <td>-4.968810e-16</td>\n",
       "    </tr>\n",
       "  </tbody>\n",
       "</table>\n",
       "<p>5 rows × 81 columns</p>\n",
       "</div>"
      ],
      "text/plain": [
       "         ID        X0        X1        X2        X3        X4        X5  \\\n",
       "0  1.979633  0.101121  3.666994 -0.311622  3.677675  0.874481 -0.417713   \n",
       "1 -0.511750  2.159374  2.231042  0.768399  1.604320  1.175893 -1.725615   \n",
       "2 -1.623258  0.902714  2.803427 -2.787332  3.370990 -3.519718  1.774649   \n",
       "3 -0.774324  2.217569  1.256841 -3.749484  2.760951 -2.823042 -0.356035   \n",
       "4 -1.307627  2.176432  1.286466 -4.177785  2.858837 -3.167789 -0.526852   \n",
       "\n",
       "         X6        X8       X14  ...      X350      X351      X354  \\\n",
       "0 -1.943171  0.903206 -1.656762  ...  0.053882 -0.064696  0.765714   \n",
       "1  1.932902  1.306531 -0.161049  ...  0.659194 -0.232019 -0.048743   \n",
       "2 -0.377720  0.271861  3.862221  ... -0.057466 -0.032657 -0.034176   \n",
       "3  1.052578  1.297875  2.134328  ... -0.025671 -0.036173 -0.080420   \n",
       "4  0.829972  0.674091  4.139201  ... -0.016581 -0.029630 -0.047196   \n",
       "\n",
       "           X355          X358          X362          X363          X374  \\\n",
       "0 -5.469000e-15  1.003156e-15 -1.245676e-15 -4.933974e-16  2.190186e-16   \n",
       "1  8.741039e-15 -3.301071e-15  1.332884e-15  3.360322e-15  9.210453e-16   \n",
       "2 -1.149995e-14 -1.837383e-15  8.951358e-16  3.427767e-15  2.603773e-15   \n",
       "3  1.805038e-14 -1.405591e-15 -2.289605e-16 -7.522151e-16 -5.669711e-16   \n",
       "4 -2.174988e-15  2.870457e-16  1.364399e-16  4.270626e-18 -4.690206e-17   \n",
       "\n",
       "           X375          X377  \n",
       "0  1.462055e-16  4.581877e-17  \n",
       "1  1.676712e-16  1.249246e-16  \n",
       "2  5.806566e-16  1.085578e-16  \n",
       "3 -6.633512e-16  2.698729e-15  \n",
       "4  3.281635e-17 -4.968810e-16  \n",
       "\n",
       "[5 rows x 81 columns]"
      ]
     },
     "execution_count": 30,
     "metadata": {},
     "output_type": "execute_result"
    }
   ],
   "source": [
    "#DIMENSION REDUCTION\n",
    "pca=PCA()\n",
    "X_train_pca=pd.DataFrame(pca.fit_transform(X_train_scaled),index=X_train_scaled.index, columns=X_train_scaled.columns)\n",
    "X_test_pca=pd.DataFrame(pca.transform(X_test_scaled),index=X_test_scaled.index, columns=X_test_scaled.columns)\n",
    "X_train_pca.head()\n"
   ]
  },
  {
   "cell_type": "code",
   "execution_count": 31,
   "metadata": {},
   "outputs": [],
   "source": [
    "#TRAIN TEST SPLIT\n",
    "X_train_split,X_test_split,y_train_split,y_test_split = tts(X_train_pca,y_train,test_size=0.2,random_state=46)"
   ]
  },
  {
   "cell_type": "markdown",
   "metadata": {},
   "source": [
    "# Modeling using XGBoost Regressor"
   ]
  },
  {
   "cell_type": "code",
   "execution_count": 32,
   "metadata": {},
   "outputs": [
    {
     "name": "stdout",
     "output_type": "stream",
     "text": [
      "[20:15:45] WARNING: /workspace/src/learner.cc:328: \n",
      "Parameters: { importance_type, missing, n_estimators } might not be used.\n",
      "\n",
      "  This may not be accurate due to some parameters are only used in language bindings but\n",
      "  passed down to XGBoost core.  Or some parameters are not used but slip through this\n",
      "  verification. Please open an issue if you find above cases.\n",
      "\n",
      "\n"
     ]
    },
    {
     "data": {
      "text/plain": [
       "XGBRegressor(base_score=0.5, booster=None, colsample_bylevel=1,\n",
       "             colsample_bynode=1, colsample_bytree=0.8, gamma=0, gpu_id=-1,\n",
       "             importance_type='gain', interaction_constraints=None,\n",
       "             learning_rate=0.1, max_delta_step=0, max_depth=4,\n",
       "             min_child_weight=2, missing=nan, monotone_constraints=None,\n",
       "             n_estimators=200, n_jobs=0, num_parallel_tree=1,\n",
       "             objective='reg:squarederror', random_state=0, reg_alpha=0.5,\n",
       "             reg_lambda=1, scale_pos_weight=1, subsample=0.8, tree_method=None,\n",
       "             validate_parameters=True, verbosity=None)"
      ]
     },
     "execution_count": 32,
     "metadata": {},
     "output_type": "execute_result"
    }
   ],
   "source": [
    "model = xgb.XGBRegressor(learning_rate=0.1,min_child_weight=2, subsample=0.8,colsample_bytree=0.8, max_depth=4,n_estimators=200,reg_alpha=0.5,validate_parameters=True)\n",
    "#model.fit(X_train_split,y_train_split)\n",
    "model.fit(X_train_split,y_train_split,eval_set=[(X_train_split, y_train_split), (X_test_split, y_test_split)], eval_metric='rmse',verbose=False)"
   ]
  },
  {
   "cell_type": "markdown",
   "metadata": {},
   "source": [
    "PREDICTION AND EVALUATION"
   ]
  },
  {
   "cell_type": "code",
   "execution_count": 33,
   "metadata": {},
   "outputs": [],
   "source": [
    "y_preds_test_split_xgb = model.predict(X_test_split)\n",
    "y_preds_train_split_xgb = model.predict(X_train_split)"
   ]
  },
  {
   "cell_type": "code",
   "execution_count": 34,
   "metadata": {},
   "outputs": [
    {
     "name": "stdout",
     "output_type": "stream",
     "text": [
      "Training\n",
      "xgbscore 0.8591926279688586\n",
      "r_2score 0.8591926279688586\n",
      "Model evaluation\n",
      "rmse 0.11178244789815975\n",
      "r2_score 0.5973482720455779\n",
      "\n",
      " Evals_result\n",
      " {'validation_0': {'rmse': [0.180324, 0.17241, 0.165172, 0.159269, 0.153581, 0.148308, 0.14373, 0.139491, 0.135921, 0.132766, 0.130293, 0.127897, 0.125705, 0.123814, 0.121967, 0.120264, 0.119001, 0.117711, 0.116458, 0.115317, 0.114312, 0.113257, 0.112363, 0.111483, 0.110724, 0.110063, 0.109303, 0.108648, 0.107999, 0.107343, 0.106632, 0.106105, 0.10564, 0.105103, 0.104642, 0.10413, 0.10365, 0.103268, 0.102934, 0.102341, 0.101856, 0.101551, 0.10102, 0.100591, 0.100237, 0.099844, 0.09942, 0.098996, 0.098718, 0.098439, 0.0981, 0.097745, 0.097439, 0.09724, 0.096818, 0.0966, 0.096384, 0.096073, 0.095752, 0.095557, 0.095374, 0.095084, 0.094757, 0.09441, 0.094155, 0.093866, 0.093595, 0.093311, 0.093027, 0.092686, 0.092291, 0.0921, 0.091954, 0.091758, 0.091441, 0.091209, 0.090943, 0.090674, 0.090466, 0.090197, 0.089829, 0.089629, 0.089393, 0.089172, 0.088983, 0.0887, 0.088482, 0.088186, 0.087975, 0.087818, 0.087614, 0.087347, 0.087155, 0.086913, 0.086742, 0.086489, 0.086222, 0.08608, 0.085892, 0.085765, 0.085561, 0.085305, 0.085006, 0.084671, 0.084476, 0.084272, 0.084021, 0.083842, 0.083632, 0.083479, 0.083203, 0.082989, 0.082772, 0.08255, 0.08236, 0.082135, 0.081888, 0.081684, 0.081442, 0.081208, 0.081051, 0.080844, 0.080639, 0.080533, 0.080448, 0.080287, 0.08013, 0.079984, 0.079843, 0.079614, 0.079412, 0.079192, 0.079008, 0.078827, 0.078631, 0.078544, 0.078376, 0.078165, 0.078002, 0.077873, 0.077682, 0.077553, 0.077353, 0.077265, 0.077047, 0.076897, 0.076707, 0.076537, 0.076434, 0.076219, 0.076035, 0.075827, 0.075643, 0.075456, 0.075313, 0.075076, 0.074862, 0.074699, 0.07458, 0.074372, 0.074214, 0.074024, 0.073824, 0.07367, 0.073539, 0.073348, 0.073262, 0.073057, 0.072952, 0.072742, 0.072591, 0.072481, 0.072315, 0.072139, 0.07199, 0.071842, 0.071684, 0.071492, 0.071289, 0.07114, 0.070996, 0.070798, 0.070691, 0.070566, 0.070432, 0.070216, 0.069998, 0.069798, 0.069614, 0.069434, 0.069277, 0.069133, 0.069005, 0.06884, 0.06865, 0.068544, 0.068467, 0.068294, 0.068167, 0.068001]}, 'validation_1': {'rmse': [0.180059, 0.172213, 0.164935, 0.158842, 0.153304, 0.148216, 0.143872, 0.139646, 0.136438, 0.133454, 0.131269, 0.12928, 0.127266, 0.125565, 0.123981, 0.122423, 0.121468, 0.120382, 0.119257, 0.118292, 0.117403, 0.11662, 0.116181, 0.11554, 0.115124, 0.114692, 0.114256, 0.113792, 0.113606, 0.113292, 0.113035, 0.11286, 0.112692, 0.112443, 0.112206, 0.112057, 0.111864, 0.111642, 0.111559, 0.111339, 0.111424, 0.111403, 0.11124, 0.111138, 0.110989, 0.110857, 0.110799, 0.110701, 0.110651, 0.11056, 0.110655, 0.110769, 0.110847, 0.110809, 0.110761, 0.110611, 0.110567, 0.110376, 0.110434, 0.110345, 0.110421, 0.110269, 0.1103, 0.110221, 0.110319, 0.110424, 0.11045, 0.110347, 0.110326, 0.110283, 0.110155, 0.110253, 0.110301, 0.11027, 0.110217, 0.1102, 0.110214, 0.110227, 0.110143, 0.110128, 0.110162, 0.110196, 0.110254, 0.110198, 0.110242, 0.110192, 0.110224, 0.110233, 0.110185, 0.110202, 0.110238, 0.110132, 0.110157, 0.110248, 0.110284, 0.110354, 0.110256, 0.110273, 0.110156, 0.110135, 0.110056, 0.110048, 0.110126, 0.110219, 0.110247, 0.110229, 0.110289, 0.110255, 0.110379, 0.11045, 0.110364, 0.110381, 0.110476, 0.110512, 0.110485, 0.110485, 0.110481, 0.110482, 0.110558, 0.11062, 0.110625, 0.110674, 0.110674, 0.110688, 0.110691, 0.110728, 0.110702, 0.110724, 0.110753, 0.110823, 0.110822, 0.110874, 0.110888, 0.110867, 0.11089, 0.110876, 0.11089, 0.110878, 0.110953, 0.110929, 0.111034, 0.111061, 0.111076, 0.111105, 0.111157, 0.111149, 0.111156, 0.111236, 0.111286, 0.111247, 0.111232, 0.111263, 0.111228, 0.111204, 0.111213, 0.111215, 0.11123, 0.111297, 0.111308, 0.111351, 0.111404, 0.111483, 0.111586, 0.111566, 0.111543, 0.111603, 0.111557, 0.111636, 0.111642, 0.111675, 0.111609, 0.111611, 0.111616, 0.11163, 0.111627, 0.111671, 0.111684, 0.111686, 0.111653, 0.111673, 0.111683, 0.111677, 0.111639, 0.111637, 0.111677, 0.111694, 0.111716, 0.111686, 0.111651, 0.111637, 0.111687, 0.111704, 0.111675, 0.11171, 0.11182, 0.111792, 0.111812, 0.111803, 0.111815, 0.111782]}}\n"
     ]
    }
   ],
   "source": [
    "xgbscore=model.score(X_train_split,y_train_split)\n",
    "print('Training')\n",
    "print('xgbscore',xgbscore)\n",
    "print('r_2score',r2_score(y_train_split,y_preds_train_split_xgb))\n",
    "print('Model evaluation')\n",
    "print ('rmse' ,(np.sqrt(mse(y_test_split,y_preds_test_split_xgb))))\n",
    "print('r2_score',r2_score(y_test_split,y_preds_test_split_xgb))\n",
    "\n",
    "evals_result = model.evals_result()\n",
    "print('\\n Evals_result\\n', evals_result)"
   ]
  },
  {
   "cell_type": "markdown",
   "metadata": {},
   "source": [
    "# MODELING Using Core XGBoost"
   ]
  },
  {
   "cell_type": "code",
   "execution_count": 35,
   "metadata": {},
   "outputs": [],
   "source": [
    "D_train_split = xgb.DMatrix(X_train_split,label=y_train_split)\n",
    "D_test_split = xgb.DMatrix(X_test_split,label=y_test_split)\n",
    "D_test = xgb.DMatrix(X_test_pca) #? we dont have targets"
   ]
  },
  {
   "cell_type": "code",
   "execution_count": 36,
   "metadata": {},
   "outputs": [
    {
     "name": "stdout",
     "output_type": "stream",
     "text": [
      "[20:15:54] WARNING: /workspace/src/learner.cc:328: \n",
      "Parameters: { n_estimators, n_trees } might not be used.\n",
      "\n",
      "  This may not be accurate due to some parameters are only used in language bindings but\n",
      "  passed down to XGBoost core.  Or some parameters are not used but slip through this\n",
      "  verification. Please open an issue if you find above cases.\n",
      "\n",
      "\n",
      "[0]\ttrain_split-rmse:74.67472\ttest_split-rmse:74.68846\ttrain_split-r2:-169800.36029\ttest_split-r2:-179757.45935\n",
      "Multiple eval metrics have been passed: 'test_split-r2' will be used for early stopping.\n",
      "\n",
      "Will train until test_split-r2 hasn't improved in 200 rounds.\n",
      "[20]\ttrain_split-rmse:0.28110\ttest_split-rmse:0.29175\ttrain_split-r2:-1.40613\ttest_split-r2:-1.74294\n",
      "[40]\ttrain_split-rmse:0.12663\ttest_split-rmse:0.12470\ttrain_split-r2:0.51173\ttest_split-r2:0.49894\n",
      "[60]\ttrain_split-rmse:0.12662\ttest_split-rmse:0.12463\ttrain_split-r2:0.51176\ttest_split-r2:0.49951\n",
      "[80]\ttrain_split-rmse:0.12371\ttest_split-rmse:0.12177\ttrain_split-r2:0.53400\ttest_split-r2:0.52215\n",
      "[100]\ttrain_split-rmse:0.12371\ttest_split-rmse:0.12177\ttrain_split-r2:0.53400\ttest_split-r2:0.52215\n",
      "[120]\ttrain_split-rmse:0.12371\ttest_split-rmse:0.12177\ttrain_split-r2:0.53400\ttest_split-r2:0.52215\n",
      "[140]\ttrain_split-rmse:0.12290\ttest_split-rmse:0.12111\ttrain_split-r2:0.54005\ttest_split-r2:0.52733\n",
      "[160]\ttrain_split-rmse:0.12290\ttest_split-rmse:0.12111\ttrain_split-r2:0.54005\ttest_split-r2:0.52733\n",
      "[180]\ttrain_split-rmse:0.12290\ttest_split-rmse:0.12111\ttrain_split-r2:0.54005\ttest_split-r2:0.52733\n",
      "[200]\ttrain_split-rmse:0.12290\ttest_split-rmse:0.12111\ttrain_split-r2:0.54005\ttest_split-r2:0.52733\n",
      "[220]\ttrain_split-rmse:0.12290\ttest_split-rmse:0.12111\ttrain_split-r2:0.54005\ttest_split-r2:0.52733\n",
      "[240]\ttrain_split-rmse:0.12290\ttest_split-rmse:0.12111\ttrain_split-r2:0.54005\ttest_split-r2:0.52733\n",
      "[260]\ttrain_split-rmse:0.12290\ttest_split-rmse:0.12111\ttrain_split-r2:0.54005\ttest_split-r2:0.52733\n",
      "[280]\ttrain_split-rmse:0.12290\ttest_split-rmse:0.12111\ttrain_split-r2:0.54005\ttest_split-r2:0.52733\n",
      "[300]\ttrain_split-rmse:0.12290\ttest_split-rmse:0.12111\ttrain_split-r2:0.54005\ttest_split-r2:0.52733\n",
      "[320]\ttrain_split-rmse:0.12290\ttest_split-rmse:0.12111\ttrain_split-r2:0.54005\ttest_split-r2:0.52733\n",
      "[340]\ttrain_split-rmse:0.12290\ttest_split-rmse:0.12111\ttrain_split-r2:0.54005\ttest_split-r2:0.52733\n",
      "Stopping. Best iteration:\n",
      "[140]\ttrain_split-rmse:0.12290\ttest_split-rmse:0.12111\ttrain_split-r2:0.54005\ttest_split-r2:0.52733\n",
      "\n"
     ]
    }
   ],
   "source": [
    "params={'eta':0.25,\n",
    "       'subsample': 1,\n",
    "       'colsample_bytree': 0.3,\n",
    "       'gamma': 1,\n",
    "       'max_depth': 4,\n",
    "       'n_estimators': 200,\n",
    "      'min_child_weight': 2,\n",
    "      'objective':'reg:squarederror',\n",
    "      'eval_metric': 'rmse',\n",
    "      'base_score': 100,\n",
    "      'alpha': 0.6,\n",
    "        'n_trees':20}\n",
    "def xgb_r2_score(preds,dtrain):\n",
    "    labels=dtrain.get_label()\n",
    "    return 'r2', r2_score(labels,preds)\n",
    "watchlist=[(D_train_split,'train_split'), (D_test_split,'test_split')]\n",
    "modelB = xgb.train(params, D_train_split, 5000 , watchlist, early_stopping_rounds=200, \n",
    "                       feval=xgb_r2_score, maximize=True, verbose_eval=20)\n"
   ]
  },
  {
   "cell_type": "markdown",
   "metadata": {},
   "source": [
    "\n",
    "PREDICTIONS AND EVALUATION"
   ]
  },
  {
   "cell_type": "code",
   "execution_count": 37,
   "metadata": {},
   "outputs": [
    {
     "name": "stdout",
     "output_type": "stream",
     "text": [
      "Training\n",
      "r_2score 0.5400438737551889\n",
      "Model evaluation\n",
      "rmse 0.1211129510030865\n",
      "r2_score 0.5273240478754011\n"
     ]
    }
   ],
   "source": [
    "y_preds_test_s = modelB.predict(D_test_split, ntree_limit=modelB.best_ntree_limit)\n",
    "y_preds_train_s = modelB.predict(D_train_split, ntree_limit=modelB.best_ntree_limit)\n",
    "\n",
    "print('Training')\n",
    "\n",
    "print('r_2score',r2_score(y_train_split,y_preds_train_s))\n",
    "print('Model evaluation')\n",
    "print ('rmse' ,(np.sqrt(mse(y_test_split,y_preds_test_s))))\n",
    "print('r2_score',r2_score(y_test_split,y_preds_test_s))\n"
   ]
  },
  {
   "cell_type": "code",
   "execution_count": 38,
   "metadata": {},
   "outputs": [
    {
     "data": {
      "text/plain": [
       "array([0.13313293, 0.40143585, 0.31513214, ..., 0.33772278, 0.5901871 ,\n",
       "       0.32561493], dtype=float32)"
      ]
     },
     "execution_count": 38,
     "metadata": {},
     "output_type": "execute_result"
    }
   ],
   "source": [
    "y_preds=modelB.predict(D_test,ntree_limit=modelB.best_ntree_limit)\n",
    "y_preds"
   ]
  },
  {
   "cell_type": "code",
   "execution_count": 39,
   "metadata": {},
   "outputs": [
    {
     "data": {
      "text/plain": [
       "<AxesSubplot:title={'center':'Feature importance'}, xlabel='F score', ylabel='Features'>"
      ]
     },
     "execution_count": 39,
     "metadata": {},
     "output_type": "execute_result"
    },
    {
     "data": {
      "image/png": "[encoded data removed]",
      "text/plain": [
       "<Figure size 432x288 with 1 Axes>"
      ]
     },
     "metadata": {
      "needs_background": "light"
     },
     "output_type": "display_data"
    }
   ],
   "source": [
    "xgb.plot_importance(modelB)"
   ]
  },
  {
   "cell_type": "code",
   "execution_count": 40,
   "metadata": {},
   "outputs": [
    {
     "data": {
      "text/plain": [
       "array([ 80.55329071,  97.56906174,  92.09568039, ...,  93.5283786 ,\n",
       "       109.53966415,  92.76049881])"
      ]
     },
     "execution_count": 40,
     "metadata": {},
     "output_type": "execute_result"
    }
   ],
   "source": [
    "Y_pred_final=np.ones(y_preds.shape)\n",
    "for i in range(0,len(y_preds)):\n",
    "    Y_pred_final[i]=(((y_preds[i])*(ytrmax-ytrmin))+ytrmin)\n",
    "    \n",
    "Y_pred_final"
   ]
  },
  {
   "cell_type": "code",
   "execution_count": 41,
   "metadata": {},
   "outputs": [
    {
     "data": {
      "text/html": [
       "<div>\n",
       "<style scoped>\n",
       "    .dataframe tbody tr th:only-of-type {\n",
       "        vertical-align: middle;\n",
       "    }\n",
       "\n",
       "    .dataframe tbody tr th {\n",
       "        vertical-align: top;\n",
       "    }\n",
       "\n",
       "    .dataframe thead th {\n",
       "        text-align: right;\n",
       "    }\n",
       "</style>\n",
       "<table border=\"1\" class=\"dataframe\">\n",
       "  <thead>\n",
       "    <tr style=\"text-align: right;\">\n",
       "      <th></th>\n",
       "      <th>Predicted time for test</th>\n",
       "    </tr>\n",
       "  </thead>\n",
       "  <tbody>\n",
       "    <tr>\n",
       "      <th>0</th>\n",
       "      <td>80.553291</td>\n",
       "    </tr>\n",
       "    <tr>\n",
       "      <th>1</th>\n",
       "      <td>97.569062</td>\n",
       "    </tr>\n",
       "    <tr>\n",
       "      <th>2</th>\n",
       "      <td>92.095680</td>\n",
       "    </tr>\n",
       "    <tr>\n",
       "      <th>3</th>\n",
       "      <td>82.070180</td>\n",
       "    </tr>\n",
       "    <tr>\n",
       "      <th>4</th>\n",
       "      <td>110.112550</td>\n",
       "    </tr>\n",
       "    <tr>\n",
       "      <th>...</th>\n",
       "      <td>...</td>\n",
       "    </tr>\n",
       "    <tr>\n",
       "      <th>4204</th>\n",
       "      <td>105.588011</td>\n",
       "    </tr>\n",
       "    <tr>\n",
       "      <th>4205</th>\n",
       "      <td>92.798240</td>\n",
       "    </tr>\n",
       "    <tr>\n",
       "      <th>4206</th>\n",
       "      <td>93.528379</td>\n",
       "    </tr>\n",
       "    <tr>\n",
       "      <th>4207</th>\n",
       "      <td>109.539664</td>\n",
       "    </tr>\n",
       "    <tr>\n",
       "      <th>4208</th>\n",
       "      <td>92.760499</td>\n",
       "    </tr>\n",
       "  </tbody>\n",
       "</table>\n",
       "<p>4209 rows × 1 columns</p>\n",
       "</div>"
      ],
      "text/plain": [
       "      Predicted time for test\n",
       "0                   80.553291\n",
       "1                   97.569062\n",
       "2                   92.095680\n",
       "3                   82.070180\n",
       "4                  110.112550\n",
       "...                       ...\n",
       "4204               105.588011\n",
       "4205                92.798240\n",
       "4206                93.528379\n",
       "4207               109.539664\n",
       "4208                92.760499\n",
       "\n",
       "[4209 rows x 1 columns]"
      ]
     },
     "execution_count": 41,
     "metadata": {},
     "output_type": "execute_result"
    }
   ],
   "source": [
    "Y_pred_final_df=pd.DataFrame(Y_pred_final,columns=['Predicted time for test'])\n",
    "Y_pred_final_df"
   ]
  },
  {
   "cell_type": "markdown",
   "metadata": {},
   "source": [
    "### NOTE ON MODELS"
   ]
  },
  {
   "cell_type": "markdown",
   "metadata": {},
   "source": [
    "The model created through XGBoostRegressor had slightly better results with \n",
    "Training\n",
    "xgbscore 0.8591926279688586\n",
    "r_2score 0.8591926279688586\n",
    "Model evaluation\n",
    "rmse 0.11178244789815975\n",
    "r2_score 0.5973482720455779\n",
    "\n",
    "While the model created through core XGBoost didn't deliever best results with\n",
    "Training\n",
    "r_2score 0.5400438737551889\n",
    "Model evaluation\n",
    "rmse 0.1211129510030865\n",
    "r2_score 0.5273240478754011\n",
    "\n",
    "However I choose core XGBoost for final prediction results since it was asked in the project.\n",
    "\n",
    "Thank you for evaluating this project."
   ]
  }
 ],
 "metadata": {
  "kernelspec": {
   "display_name": "Python 3",
   "language": "python",
   "name": "python3"
  },
  "language_info": {
   "codemirror_mode": {
    "name": "ipython",
    "version": 3
   },
   "file_extension": ".py",
   "mimetype": "text/x-python",
   "name": "python",
   "nbconvert_exporter": "python",
   "pygments_lexer": "ipython3",
   "version": "3.7.6"
  }
 },
 "nbformat": 4,
 "nbformat_minor": 4
}
